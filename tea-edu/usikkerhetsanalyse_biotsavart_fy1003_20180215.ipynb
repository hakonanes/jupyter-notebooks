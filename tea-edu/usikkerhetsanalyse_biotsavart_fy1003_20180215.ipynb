{
 "cells": [
  {
   "cell_type": "markdown",
   "metadata": {},
   "source": [
    "# Usikkerhetsanalyse av Biot-Savarts lov\n",
    "\n",
    "## FY1003 Elektrisitet og magnetisme\n",
    "\n",
    "### Laboratorieøvelse 3 Statisk magnetfelt\n",
    "\n",
    "#### Norges Teknisk-Naturvitenskapelige Universitet\n",
    "\n",
    "Av Håkon W. Ånes\n",
    "\n",
    "Dato: 2018-02-15\n",
    "\n",
    "___\n",
    "\n",
    "**Mål:** Beregne $\\Delta B(x)$ i hver posisjon $x$ for de fem geometriene kort spole, helmholtzspole ($a = (2R, R, R/2)$) og solenoide.\n",
    "\n",
    "**Fremgangsmåte:**\n",
    "1. Ser på usikkerhetsbidraget til $\\Delta B$ fra hver av variablene som inngår i Biot-Savarts lov ved å benytte Gauss' feilforplantningslov.\n",
    "2. Partiellderiverer hvert uttrykk ved bruk av Python-biblioteket `sympy`.\n",
    "\n",
    "Noe av `sympy`s funksjoner benyttet i denne notebook-en finnes her [http://docs.sympy.org/latest/tutorial/calculus.html#](http://docs.sympy.org/latest/tutorial/calculus.html#). "
   ]
  },
  {
   "cell_type": "code",
   "execution_count": 8,
   "metadata": {},
   "outputs": [],
   "source": [
    "%matplotlib inline\n",
    "import matplotlib.pyplot as plt\n",
    "import numpy as np\n",
    "import sympy as sp\n",
    "\n",
    "\n",
    "# Initialiserer pen visning av uttrykkene\n",
    "sp.init_printing()\n",
    "\n",
    "# Plotteparametre for å få store, tydelige plott som utnytter tilgjengelig skjermareal\n",
    "fontsize = 20\n",
    "newparams = {'axes.titlesize': fontsize, 'axes.labelsize': fontsize,\n",
    "             'lines.linewidth': 2, 'lines.markersize': 7,\n",
    "             'figure.figsize': (16, 5), 'ytick.labelsize': fontsize,\n",
    "             'xtick.labelsize': fontsize, 'legend.fontsize': fontsize,\n",
    "            'legend.handlelength': 1.5}\n",
    "plt.rcParams.update(newparams)"
   ]
  },
  {
   "cell_type": "code",
   "execution_count": 2,
   "metadata": {},
   "outputs": [],
   "source": [
    "# Definerer variablene som inngår i uttrykkene for Biot-Savarts lov for alle geometriene\n",
    "mu0, I, R, N, l, x, z = sp.symbols('mu0 I R N l x z')"
   ]
  },
  {
   "cell_type": "markdown",
   "metadata": {},
   "source": [
    "# Kort spole"
   ]
  },
  {
   "cell_type": "markdown",
   "metadata": {},
   "source": [
    "Lager uttrykk for Biot-Savarts lov for kort spole og skriver til skjerm."
   ]
  },
  {
   "cell_type": "code",
   "execution_count": 3,
   "metadata": {},
   "outputs": [
    {
     "data": {
      "image/png": "[encoded data removed]",
      "text/latex": [
       "$$\\frac{I N \\mu_{0}}{2 R \\left(1 + \\frac{x^{2}}{R^{2}}\\right)^{1.5}}$$"
      ],
      "text/plain": [
       "               -1.5\n",
       "       ⎛     2⎞    \n",
       "       ⎜    x ⎟    \n",
       "I⋅N⋅μ₀⋅⎜1 + ──⎟    \n",
       "       ⎜     2⎟    \n",
       "       ⎝    R ⎠    \n",
       "───────────────────\n",
       "        2⋅R        "
      ]
     },
     "execution_count": 3,
     "metadata": {},
     "output_type": "execute_result"
    }
   ],
   "source": [
    "kort_spole = (N*I*mu0)/(2*R)*(1 + (x/R)**2)**(-3/2)\n",
    "kort_spole"
   ]
  },
  {
   "cell_type": "markdown",
   "metadata": {},
   "source": [
    "Da partiellderiverer vi med hensyn på f.eks. $x$, $I$ og $R$ og legger uttrykkene i en liste. For å sjekke om det faktisk er så lett som det ser ut skriver vi $\\partial B/\\partial I$ til skjerm."
   ]
  },
  {
   "cell_type": "code",
   "execution_count": 4,
   "metadata": {},
   "outputs": [
    {
     "data": {
      "image/png": "[encoded data removed]",
      "text/latex": [
       "$$\\frac{N \\mu_{0}}{2 R \\left(1 + \\frac{x^{2}}{R^{2}}\\right)^{1.5}}$$"
      ],
      "text/plain": [
       "             -1.5\n",
       "     ⎛     2⎞    \n",
       "     ⎜    x ⎟    \n",
       "N⋅μ₀⋅⎜1 + ──⎟    \n",
       "     ⎜     2⎟    \n",
       "     ⎝    R ⎠    \n",
       "─────────────────\n",
       "       2⋅R       "
      ]
     },
     "execution_count": 4,
     "metadata": {},
     "output_type": "execute_result"
    }
   ],
   "source": [
    "dBkd = [sp.diff(kort_spole, x), sp.diff(kort_spole, I), sp.diff(kort_spole, R)]\n",
    "dBkd[1]"
   ]
  },
  {
   "cell_type": "markdown",
   "metadata": {},
   "source": [
    "Suksess! Da skriver vi måleposisjoner og målte feltstyrker ved posisjonene vi ønsker å beregne usikkerhetene for til lister."
   ]
  },
  {
   "cell_type": "code",
   "execution_count": 5,
   "metadata": {},
   "outputs": [],
   "source": [
    "xk = [0.01, 0.02, 0.03, 0.04, 0.05, 0.06, 0.07, 0.08, 0.09, 0.10, 0.11, 0.12, 0.13, 0.14,\n",
    "      0.15, 0.16, 0.17, 0.18, 0.19, 0.20, 0.21, 0.22, 0.23, 0.24, 0.25, 0.26, 0.27, 0.28,\n",
    "      0.285, 0.29, 0.295, 0.3, 0.305, 0.31, 0.315, 0.32, 0.33, 0.34, 0.35, 0.36, 0.37,\n",
    "      0.38, 0.39, 0.4, 0.41, 0.42, 0.43, 0.44, 0.45, 0.46, 0.47, 0.48, 0.49, 0.5]\n",
    "\n",
    "Bk = [0.22, 0.26, 0.3, 0.36, 0.42, 0.49, 0.58, 0.67, 0.79, 0.92, 1.09, 1.27, 1.51, 1.79,\n",
    "      2.14, 2.57, 3.1, 3.75, 4.58, 5.62, 6.97, 8.59, 10.74, 13.3, 16.36, 19.85, 23.41, 26.57,\n",
    "      27.76, 28.71, 29.2, 29.26, 28.91, 28.13, 26.97, 25.52, 22.19, 18.53, 15.21, 12.31,\n",
    "      9.96, 8.04, 6.47, 5.26, 4.31, 3.51, 2.9, 2.41, 2.02, 1.7, 1.43, 1.21, 1.03, 0.87]"
   ]
  },
  {
   "cell_type": "markdown",
   "metadata": {},
   "source": [
    "Spesifiserer så tenkte usikkerheter for variablene (ikke bruk disse, tenk ut dine egne!), beregner usikkerhetene med Gauss' feilforplantningslov\n",
    "\n",
    "$$\n",
    "\\Delta B_\\textrm{k} = \\sqrt{\\left(\\frac{\\partial B}{\\partial x} \\cdot \\Delta x\\right)^2\n",
    "+ \\left(\\frac{\\partial B}{\\partial I} \\cdot \\Delta I\\right)^2\n",
    "+ \\left(\\frac{\\partial B}{\\partial R} \\cdot \\Delta R\\right)^2}\n",
    "$$\n",
    "\n",
    "og plotter magnetfeltstyrken og usikkerhetene i samme plott."
   ]
  },
  {
   "cell_type": "code",
   "execution_count": 9,
   "metadata": {},
   "outputs": [
    {
     "data": {
      "image/png": "[encoded data removed]",
      "text/plain": [
       "<matplotlib.figure.Figure at 0x7fe25c289240>"
      ]
     },
     "metadata": {},
     "output_type": "display_data"
    }
   ],
   "source": [
    "# Tenkte usikkerheter (ikke bruk disse, tenk gjennom eksperimentet og målemetodene og kom opp med\n",
    "# deres egne!)\n",
    "deltaxk = 0.01  # [m]\n",
    "deltaIk = 0.03  # [A]\n",
    "deltaRk = 0.0093 # [m]\n",
    "\n",
    "# Legger dem i en liste i samme rekkefølge (! VIKTIG!) som dBkd\n",
    "deltas = [deltaxk, deltaIk, deltaRk]\n",
    "\n",
    "# Definerer et array av samme form som Bk\n",
    "deltaBk = np.zeros(len(Bk))\n",
    "\n",
    "# Beregner usikkerhetene for hver av måleposisjonene. Én iterasjon, én deltaB(x_i).\n",
    "for i in range(len(xk)):\n",
    "    \n",
    "    # Benytter list comprehension her, se f.eks.\n",
    "    # http://www.secnetix.de/olli/Python/list_comprehensions.hawk\n",
    "    # Eksempel syntaks: variabel = [en-operasjon for i in range(3)]\n",
    "    # Hva vi gjør (fra innerst til ytterst i linjen):\n",
    "    #   1. Med dBkd[i].subs() bytter vi ut variablene N, I, mu0, R og x med tallverdier. x endrer seg\n",
    "    #      fra iterasjon til iterasjon i løkken.\n",
    "    #   2. Sørger for å gange hvert ledd med 10^4 for å gå fra Tesla til Gauss\n",
    "    #   3. Kvadrerer\n",
    "    #   4. Summerer de tre leddene ()^2\n",
    "    deltaBk[i] = np.sum([(dBkd[i].subs([(N, 330), (I, 1), (mu0, 4*np.pi*1e-7), (R, 0.07),\n",
    "                                        (x, xk[i])])*1e4*deltas[i])**2 for i in range(len(deltas))])\n",
    "    # Så tar vi roten\n",
    "    deltaBk[i] = np.sqrt(deltaBk[i])\n",
    "    \n",
    "# Plotter\n",
    "plt.errorbar(xk, Bk, yerr=deltaBk, fmt='o', label='Måledata med usikkerhet')\n",
    "plt.xlabel('$x$ [m]')\n",
    "plt.ylabel('$B$ [Gauss]')\n",
    "plt.legend();"
   ]
  },
  {
   "cell_type": "markdown",
   "metadata": {},
   "source": [
    "# Helmholtzspoler og solenoide\n",
    "\n",
    "... Dette kan dere gjøre selv. Hold tungen bent i munnen! Og husk, som alltid, Google først, *så* spør labass."
   ]
  }
 ],
 "metadata": {
  "kernelspec": {
   "display_name": "Python 3",
   "language": "python",
   "name": "python3"
  },
  "language_info": {
   "codemirror_mode": {
    "name": "ipython",
    "version": 3
   },
   "file_extension": ".py",
   "mimetype": "text/x-python",
   "name": "python",
   "nbconvert_exporter": "python",
   "pygments_lexer": "ipython3",
   "version": "3.6.4"
  }
 },
 "nbformat": 4,
 "nbformat_minor": 2
}
